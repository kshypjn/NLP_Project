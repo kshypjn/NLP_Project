{
 "cells": [
  {
   "cell_type": "code",
   "execution_count": 4,
   "metadata": {
    "_cell_guid": "b1076dfc-b9ad-4769-8c92-a6c4dae69d19",
    "_uuid": "8f2839f25d086af736a60e9eeb907d3b93b6e0e5",
    "execution": {
     "iopub.execute_input": "2025-04-18T09:19:03.072724Z",
     "iopub.status.busy": "2025-04-18T09:19:03.071878Z",
     "iopub.status.idle": "2025-04-18T09:19:03.112557Z",
     "shell.execute_reply": "2025-04-18T09:19:03.112012Z",
     "shell.execute_reply.started": "2025-04-18T09:19:03.072678Z"
    },
    "trusted": true
   },
   "outputs": [],
   "source": [
    "import os\n",
    "import pandas as pd\n",
    "import numpy as np\n",
    "from sentence_transformers import SentenceTransformer\n",
    "import faiss\n",
    "import pickle\n",
    "import torch"
   ]
  },
  {
   "cell_type": "code",
   "execution_count": 5,
   "metadata": {
    "execution": {
     "iopub.execute_input": "2025-04-18T09:19:05.119695Z",
     "iopub.status.busy": "2025-04-18T09:19:05.118991Z",
     "iopub.status.idle": "2025-04-18T09:19:05.124049Z",
     "shell.execute_reply": "2025-04-18T09:19:05.123217Z",
     "shell.execute_reply.started": "2025-04-18T09:19:05.119669Z"
    },
    "trusted": true
   },
   "outputs": [
    {
     "name": "stdout",
     "output_type": "stream",
     "text": [
      "Using device: cuda\n"
     ]
    }
   ],
   "source": [
    "device = \"cuda\" if torch.cuda.is_available() else \"cpu\"\n",
    "print(\"Using device:\", device)"
   ]
  },
  {
   "cell_type": "code",
   "execution_count": 6,
   "metadata": {
    "execution": {
     "iopub.execute_input": "2025-04-18T09:19:31.668968Z",
     "iopub.status.busy": "2025-04-18T09:19:31.668732Z",
     "iopub.status.idle": "2025-04-18T09:19:31.738343Z",
     "shell.execute_reply": "2025-04-18T09:19:31.737604Z",
     "shell.execute_reply.started": "2025-04-18T09:19:31.668951Z"
    },
    "trusted": true
   },
   "outputs": [
    {
     "name": "stdout",
     "output_type": "stream",
     "text": [
      "(2000, 2)\n"
     ]
    },
    {
     "data": {
      "text/html": [
       "<div>\n",
       "<style scoped>\n",
       "    .dataframe tbody tr th:only-of-type {\n",
       "        vertical-align: middle;\n",
       "    }\n",
       "\n",
       "    .dataframe tbody tr th {\n",
       "        vertical-align: top;\n",
       "    }\n",
       "\n",
       "    .dataframe thead th {\n",
       "        text-align: right;\n",
       "    }\n",
       "</style>\n",
       "<table border=\"1\" class=\"dataframe\">\n",
       "  <thead>\n",
       "    <tr style=\"text-align: right;\">\n",
       "      <th></th>\n",
       "      <th>image_id</th>\n",
       "      <th>description</th>\n",
       "    </tr>\n",
       "  </thead>\n",
       "  <tbody>\n",
       "    <tr>\n",
       "      <th>0</th>\n",
       "      <td>3fe668b00f4f6efa967866bdda12a977</td>\n",
       "      <td>The gown is a floor-length garment with an asy...</td>\n",
       "    </tr>\n",
       "    <tr>\n",
       "      <th>1</th>\n",
       "      <td>95931f0df1f902a79ee6c9a67725d00c</td>\n",
       "      <td>The woman is wearing a green coat with fur tri...</td>\n",
       "    </tr>\n",
       "    <tr>\n",
       "      <th>2</th>\n",
       "      <td>fbd8ef2564a18d367d19a7220adf4e62</td>\n",
       "      <td>The woman is wearing a black leather skirt. Th...</td>\n",
       "    </tr>\n",
       "    <tr>\n",
       "      <th>3</th>\n",
       "      <td>ef8017a524be660d50c6e9476672fe22</td>\n",
       "      <td>The image features a pair of black shorts with...</td>\n",
       "    </tr>\n",
       "    <tr>\n",
       "      <th>4</th>\n",
       "      <td>71e9b0adb502858db1770a0307f300a5</td>\n",
       "      <td>The man is wearing a gray blazer, which is a t...</td>\n",
       "    </tr>\n",
       "  </tbody>\n",
       "</table>\n",
       "</div>"
      ],
      "text/plain": [
       "                           image_id  \\\n",
       "0  3fe668b00f4f6efa967866bdda12a977   \n",
       "1  95931f0df1f902a79ee6c9a67725d00c   \n",
       "2  fbd8ef2564a18d367d19a7220adf4e62   \n",
       "3  ef8017a524be660d50c6e9476672fe22   \n",
       "4  71e9b0adb502858db1770a0307f300a5   \n",
       "\n",
       "                                         description  \n",
       "0  The gown is a floor-length garment with an asy...  \n",
       "1  The woman is wearing a green coat with fur tri...  \n",
       "2  The woman is wearing a black leather skirt. Th...  \n",
       "3  The image features a pair of black shorts with...  \n",
       "4  The man is wearing a gray blazer, which is a t...  "
      ]
     },
     "execution_count": 6,
     "metadata": {},
     "output_type": "execute_result"
    }
   ],
   "source": [
    "DESCRIPTIONS_CSV = \"/kaggle/input/nlp-fashionpedia/LLaVADescriptions.csv\"\n",
    "df = pd.read_csv(DESCRIPTIONS_CSV)\n",
    "print(df.shape)\n",
    "df.head()"
   ]
  },
  {
   "cell_type": "code",
   "execution_count": 7,
   "metadata": {
    "execution": {
     "iopub.execute_input": "2025-04-18T09:20:52.952773Z",
     "iopub.status.busy": "2025-04-18T09:20:52.952032Z",
     "iopub.status.idle": "2025-04-18T09:21:00.112021Z",
     "shell.execute_reply": "2025-04-18T09:21:00.111280Z",
     "shell.execute_reply.started": "2025-04-18T09:20:52.952747Z"
    },
    "trusted": true
   },
   "outputs": [
    {
     "data": {
      "application/vnd.jupyter.widget-view+json": {
       "model_id": "2beb7e246f474d05853591a97d84e972",
       "version_major": 2,
       "version_minor": 0
      },
      "text/plain": [
       "modules.json:   0%|          | 0.00/349 [00:00<?, ?B/s]"
      ]
     },
     "metadata": {},
     "output_type": "display_data"
    },
    {
     "data": {
      "application/vnd.jupyter.widget-view+json": {
       "model_id": "0295778c4608458db7a7c4409150cfcf",
       "version_major": 2,
       "version_minor": 0
      },
      "text/plain": [
       "config_sentence_transformers.json:   0%|          | 0.00/116 [00:00<?, ?B/s]"
      ]
     },
     "metadata": {},
     "output_type": "display_data"
    },
    {
     "data": {
      "application/vnd.jupyter.widget-view+json": {
       "model_id": "be87a99667a24d559cbf008eaeb499e8",
       "version_major": 2,
       "version_minor": 0
      },
      "text/plain": [
       "README.md:   0%|          | 0.00/10.5k [00:00<?, ?B/s]"
      ]
     },
     "metadata": {},
     "output_type": "display_data"
    },
    {
     "data": {
      "application/vnd.jupyter.widget-view+json": {
       "model_id": "91111f94b7334388bdc963ba00018785",
       "version_major": 2,
       "version_minor": 0
      },
      "text/plain": [
       "sentence_bert_config.json:   0%|          | 0.00/53.0 [00:00<?, ?B/s]"
      ]
     },
     "metadata": {},
     "output_type": "display_data"
    },
    {
     "data": {
      "application/vnd.jupyter.widget-view+json": {
       "model_id": "5adca3edee5e4cc0983e58a17d82f49f",
       "version_major": 2,
       "version_minor": 0
      },
      "text/plain": [
       "config.json:   0%|          | 0.00/612 [00:00<?, ?B/s]"
      ]
     },
     "metadata": {},
     "output_type": "display_data"
    },
    {
     "name": "stderr",
     "output_type": "stream",
     "text": [
      "Xet Storage is enabled for this repo, but the 'hf_xet' package is not installed. Falling back to regular HTTP download. For better performance, install the package with: `pip install huggingface_hub[hf_xet]` or `pip install hf_xet`\n"
     ]
    },
    {
     "data": {
      "application/vnd.jupyter.widget-view+json": {
       "model_id": "5962917eb3884e8a9388c75c69a33216",
       "version_major": 2,
       "version_minor": 0
      },
      "text/plain": [
       "model.safetensors:   0%|          | 0.00/90.9M [00:00<?, ?B/s]"
      ]
     },
     "metadata": {},
     "output_type": "display_data"
    },
    {
     "data": {
      "application/vnd.jupyter.widget-view+json": {
       "model_id": "829ba85c2d1d4b3eb6d5b65c402acfd5",
       "version_major": 2,
       "version_minor": 0
      },
      "text/plain": [
       "tokenizer_config.json:   0%|          | 0.00/350 [00:00<?, ?B/s]"
      ]
     },
     "metadata": {},
     "output_type": "display_data"
    },
    {
     "data": {
      "application/vnd.jupyter.widget-view+json": {
       "model_id": "982922afc05a494d9640c9e10bee6b16",
       "version_major": 2,
       "version_minor": 0
      },
      "text/plain": [
       "vocab.txt:   0%|          | 0.00/232k [00:00<?, ?B/s]"
      ]
     },
     "metadata": {},
     "output_type": "display_data"
    },
    {
     "data": {
      "application/vnd.jupyter.widget-view+json": {
       "model_id": "770ef0d21cab4b3c88a8bbb01d10bb75",
       "version_major": 2,
       "version_minor": 0
      },
      "text/plain": [
       "tokenizer.json:   0%|          | 0.00/466k [00:00<?, ?B/s]"
      ]
     },
     "metadata": {},
     "output_type": "display_data"
    },
    {
     "data": {
      "application/vnd.jupyter.widget-view+json": {
       "model_id": "6c9a53a143844a6ea2ed5e28d4e387ee",
       "version_major": 2,
       "version_minor": 0
      },
      "text/plain": [
       "special_tokens_map.json:   0%|          | 0.00/112 [00:00<?, ?B/s]"
      ]
     },
     "metadata": {},
     "output_type": "display_data"
    },
    {
     "data": {
      "application/vnd.jupyter.widget-view+json": {
       "model_id": "2b8250a1d334446cb5c094f65d0e9c29",
       "version_major": 2,
       "version_minor": 0
      },
      "text/plain": [
       "config.json:   0%|          | 0.00/190 [00:00<?, ?B/s]"
      ]
     },
     "metadata": {},
     "output_type": "display_data"
    }
   ],
   "source": [
    "model = SentenceTransformer(\"all-MiniLM-L6-v2\", device=device)\n"
   ]
  },
  {
   "cell_type": "code",
   "execution_count": 11,
   "metadata": {
    "execution": {
     "iopub.execute_input": "2025-04-18T09:22:01.308030Z",
     "iopub.status.busy": "2025-04-18T09:22:01.307541Z",
     "iopub.status.idle": "2025-04-18T09:22:02.667349Z",
     "shell.execute_reply": "2025-04-18T09:22:02.666629Z",
     "shell.execute_reply.started": "2025-04-18T09:22:01.308004Z"
    },
    "trusted": true
   },
   "outputs": [
    {
     "data": {
      "application/vnd.jupyter.widget-view+json": {
       "model_id": "e0e4c0441a334534af917a0191e26339",
       "version_major": 2,
       "version_minor": 0
      },
      "text/plain": [
       "Batches:   0%|          | 0/63 [00:00<?, ?it/s]"
      ]
     },
     "metadata": {},
     "output_type": "display_data"
    },
    {
     "name": "stdout",
     "output_type": "stream",
     "text": [
      "(2000, 384)\n"
     ]
    }
   ],
   "source": [
    "texts = df[\"description\"].tolist()\n",
    "batch_size = 32\n",
    "\n",
    "embeddings = model.encode(\n",
    "    texts,\n",
    "    batch_size=batch_size,\n",
    "    show_progress_bar=True,\n",
    "    convert_to_numpy=True,\n",
    "    normalize_embeddings=True  \n",
    ")\n",
    "print( embeddings.shape)\n"
   ]
  },
  {
   "cell_type": "code",
   "execution_count": 12,
   "metadata": {
    "execution": {
     "iopub.execute_input": "2025-04-18T09:22:03.805775Z",
     "iopub.status.busy": "2025-04-18T09:22:03.805255Z",
     "iopub.status.idle": "2025-04-18T09:22:03.810998Z",
     "shell.execute_reply": "2025-04-18T09:22:03.810412Z",
     "shell.execute_reply.started": "2025-04-18T09:22:03.805742Z"
    },
    "trusted": true
   },
   "outputs": [
    {
     "name": "stdout",
     "output_type": "stream",
     "text": [
      "2000\n"
     ]
    }
   ],
   "source": [
    "dim = embeddings.shape[1]\n",
    "\n",
    "index = faiss.IndexFlatIP(dim)\n",
    "\n",
    "index.add(embeddings)\n",
    "print( index.ntotal)\n"
   ]
  },
  {
   "cell_type": "code",
   "execution_count": 13,
   "metadata": {
    "execution": {
     "iopub.execute_input": "2025-04-18T09:22:19.805967Z",
     "iopub.status.busy": "2025-04-18T09:22:19.805713Z",
     "iopub.status.idle": "2025-04-18T09:22:19.813666Z",
     "shell.execute_reply": "2025-04-18T09:22:19.812810Z",
     "shell.execute_reply.started": "2025-04-18T09:22:19.805951Z"
    },
    "trusted": true
   },
   "outputs": [
    {
     "name": "stdout",
     "output_type": "stream",
     "text": [
      "done\n"
     ]
    }
   ],
   "source": [
    "faiss.write_index(index, \"fashion_descriptions.index\")\n",
    "\n",
    "with open(\"image_ids.pkl\", \"wb\") as f:\n",
    "    pickle.dump(df[\"image_id\"].tolist(), f)\n",
    "\n",
    "print(\"done\")\n"
   ]
  },
  {
   "cell_type": "code",
   "execution_count": 14,
   "metadata": {
    "execution": {
     "iopub.execute_input": "2025-04-18T09:22:54.586256Z",
     "iopub.status.busy": "2025-04-18T09:22:54.585665Z",
     "iopub.status.idle": "2025-04-18T09:22:54.619901Z",
     "shell.execute_reply": "2025-04-18T09:22:54.619362Z",
     "shell.execute_reply.started": "2025-04-18T09:22:54.586234Z"
    },
    "trusted": true
   },
   "outputs": [
    {
     "data": {
      "application/vnd.jupyter.widget-view+json": {
       "model_id": "4f0db485c5da4b3ea08c1aa510ab4e3e",
       "version_major": 2,
       "version_minor": 0
      },
      "text/plain": [
       "Batches:   0%|          | 0/1 [00:00<?, ?it/s]"
      ]
     },
     "metadata": {},
     "output_type": "display_data"
    },
    {
     "name": "stdout",
     "output_type": "stream",
     "text": [
      "                           image_id  \\\n",
      "0  52dc4ac2e8b046fae7b5e6c3367a7961   \n",
      "1  a32a50eab1dcdee2914e9610c4327acc   \n",
      "2  291ae88fa81d574a0b4bc823f2a4e25f   \n",
      "3  b3a0e8825a9b058d17de36f300e1de83   \n",
      "4  7dfb06f211662c7b13b60a710eebcf07   \n",
      "\n",
      "                                         description     score  \n",
      "0  The clothing item is a red dress with a black ...  0.706891  \n",
      "1  The woman is wearing a red dress that is tight...  0.706490  \n",
      "2  The clothing item is a red dress with a lace p...  0.700796  \n",
      "3  The clothing item is a red dress with a high w...  0.699826  \n",
      "4  The clothing item is a red dress with a high w...  0.698726  \n"
     ]
    }
   ],
   "source": [
    "#trial\n",
    "def retrieve(query:str, k=5):\n",
    "    q_emb = model.encode([query], convert_to_numpy=True, normalize_embeddings=True)\n",
    "    D, I = index.search(q_emb, k)\n",
    "    results = []\n",
    "    for score, idx in zip(D[0], I[0]):\n",
    "        results.append({\n",
    "            \"image_id\": image_ids[idx],\n",
    "            \"description\": df.loc[idx, \"description\"],\n",
    "            \"score\": float(score)\n",
    "        })\n",
    "    return pd.DataFrame(results)\n",
    "\n",
    "with open(\"image_ids.pkl\",\"rb\") as f:\n",
    "    image_ids = pickle.load(f)\n",
    "\n",
    "print(retrieve(\"a red cocktail dress with lace details\", k=5))\n"
   ]
  }
 ],
 "metadata": {
  "kaggle": {
   "accelerator": "gpu",
   "dataSources": [
    {
     "datasetId": 7170641,
     "sourceId": 11459230,
     "sourceType": "datasetVersion"
    }
   ],
   "dockerImageVersionId": 31011,
   "isGpuEnabled": true,
   "isInternetEnabled": true,
   "language": "python",
   "sourceType": "notebook"
  },
  "kernelspec": {
   "display_name": "Python 3",
   "language": "python",
   "name": "python3"
  },
  "language_info": {
   "codemirror_mode": {
    "name": "ipython",
    "version": 3
   },
   "file_extension": ".py",
   "mimetype": "text/x-python",
   "name": "python",
   "nbconvert_exporter": "python",
   "pygments_lexer": "ipython3",
   "version": "3.11.11"
  }
 },
 "nbformat": 4,
 "nbformat_minor": 4
}
